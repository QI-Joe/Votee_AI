{
 "cells": [
  {
   "cell_type": "code",
   "execution_count": 5,
   "metadata": {},
   "outputs": [],
   "source": [
    "import requests\n",
    "\n",
    "url_path = \"https://wordle.votee.dev:8000/word/{word}\"\n",
    "url_daily = \"https://wordle.votee.dev:8000/daily\"\n",
    "url_random = \"https://wordle.votee.dev:8000/random\"\n",
    "words = requests.get(url_path)\n",
    "words = words.json()"
   ]
  },
  {
   "cell_type": "code",
   "execution_count": 7,
   "metadata": {},
   "outputs": [],
   "source": [
    "daily = requests.get(url_daily).json()\n",
    "votee_random = requests.get(url_random).json()"
   ]
  },
  {
   "cell_type": "code",
   "execution_count": 3,
   "metadata": {},
   "outputs": [
    {
     "data": {
      "text/plain": [
       "{'loc': ['query', 'guess'],\n",
       " 'msg': 'field required',\n",
       " 'type': 'value_error.missing'}"
      ]
     },
     "execution_count": 3,
     "metadata": {},
     "output_type": "execute_result"
    }
   ],
   "source": [
    "target = words[\"detail\"][0]\n",
    "target"
   ]
  },
  {
   "cell_type": "code",
   "execution_count": 32,
   "metadata": {},
   "outputs": [],
   "source": [
    "\"\"\"\n",
    "Considering all API request is failed, I will simulate the given word by [\"loc\"] in response\n",
    "\"\"\"\n",
    "data = target[\"loc\"]\n",
    "data = \"I _ a cat, it is beautifully and I play _ _ all day.\""
   ]
  },
  {
   "cell_type": "markdown",
   "metadata": {},
   "source": [
    "#### Split the chunk given the data"
   ]
  },
  {
   "cell_type": "code",
   "execution_count": 11,
   "metadata": {},
   "outputs": [],
   "source": [
    "from langchain_text_splitters import RecursiveCharacterTextSplitter\n",
    "\n",
    "if len(target)>200:\n",
    "    chunk_size = 200\n",
    "    chunk_overlap = 15\n",
    "    chunk_ = RecursiveCharacterTextSplitter(\n",
    "        chunk_size=chunk_size, chunk_overlap=chunk_overlap, is_separator_regex=False\n",
    "    )\n",
    "    if isinstance(data, list):\n",
    "        docuement = chunk_.create_documents(data)\n",
    "    else: \n",
    "        docuement = chunk_.create_documents([data])\n",
    "else:\n",
    "    docuement = data"
   ]
  },
  {
   "cell_type": "markdown",
   "metadata": {},
   "source": [
    "#### Call Bert to play the random word puzzle"
   ]
  },
  {
   "cell_type": "code",
   "execution_count": 47,
   "metadata": {},
   "outputs": [
    {
     "name": "stderr",
     "output_type": "stream",
     "text": [
      "/home/joe/anaconda3/lib/python3.11/site-packages/transformers/tokenization_utils_base.py:1601: FutureWarning: `clean_up_tokenization_spaces` was not set. It will be set to `True` by default. This behavior will be depracted in transformers v4.45, and will be then set to `False` by default. For more details check this issue: https://github.com/huggingface/transformers/issues/31884\n",
      "  warnings.warn(\n"
     ]
    }
   ],
   "source": [
    "from transformers import AutoModelForMaskedLM, AutoTokenizer\n",
    "import torch\n",
    "import copy\n",
    "\n",
    "model_name = \"readerbench/RoBERT-base\"\n",
    "tokenizer = AutoTokenizer.from_pretrained(model_name)\n",
    "model = AutoModelForMaskedLM.from_pretrained(model_name)"
   ]
  },
  {
   "cell_type": "code",
   "execution_count": 54,
   "metadata": {},
   "outputs": [],
   "source": [
    "data = data.split(\" \")\n",
    "mask_token = tokenizer.mask_token\n",
    "mask_id = tokenizer.mask_token_id\n",
    "\n",
    "for i in range(len(data)):\n",
    "    if data[i] == \"_\":\n",
    "        data[i] = mask_token\n",
    "data = \" \".join(data)\n",
    "\n",
    "input_token = tokenizer(data, return_tensors=\"pt\")\n",
    "tokenid = input_token[\"input_ids\"]\n",
    "mask_id = torch.where(tokenid[0] == mask_id)[0]"
   ]
  },
  {
   "cell_type": "code",
   "execution_count": 55,
   "metadata": {},
   "outputs": [
    {
     "data": {
      "text/plain": [
       "tensor([ 2, 15, 16])"
      ]
     },
     "execution_count": 55,
     "metadata": {},
     "output_type": "execute_result"
    }
   ],
   "source": [
    "mask_id"
   ]
  },
  {
   "cell_type": "code",
   "execution_count": 56,
   "metadata": {},
   "outputs": [],
   "source": [
    "with torch.no_grad():\n",
    "    output = model(**input_token)"
   ]
  },
  {
   "cell_type": "code",
   "execution_count": 70,
   "metadata": {},
   "outputs": [],
   "source": [
    "predicts = output.logits[0, mask_id, :]\n",
    "masked_list = []\n",
    "topk = 3\n",
    "for i in range(topk):\n",
    "    l1 = predicts[i]\n",
    "    topk = torch.topk(l1.reshape(1,-1), k=3, dim=1).indices[0].tolist()\n",
    "    masked_list.append(topk)"
   ]
  },
  {
   "cell_type": "code",
   "execution_count": 73,
   "metadata": {},
   "outputs": [
    {
     "data": {
      "text/plain": [
       "[['have', 'am', 'need'], ['the', 'to', 'a'], ['##y', '##e', 'it']]"
      ]
     },
     "execution_count": 73,
     "metadata": {},
     "output_type": "execute_result"
    }
   ],
   "source": [
    "for f1 in range(3):\n",
    "    for f2 in range(3):\n",
    "        masked_list[f1][f2] = tokenizer.decode(masked_list[f1][f2])\n",
    "\n",
    "masked_list"
   ]
  },
  {
   "cell_type": "code",
   "execution_count": null,
   "metadata": {},
   "outputs": [
    {
     "data": {
      "text/plain": [
       "[1, 10, 11]"
      ]
     },
     "execution_count": 78,
     "metadata": {},
     "output_type": "execute_result"
    }
   ],
   "source": [
    "val_idx = []\n",
    "data = data.split()\n",
    "for i in range(len(data)):\n",
    "    if data[i] == mask_token:\n",
    "        val_idx.append(i)\n",
    "val_idx"
   ]
  },
  {
   "cell_type": "code",
   "execution_count": 80,
   "metadata": {},
   "outputs": [
    {
     "name": "stdout",
     "output_type": "stream",
     "text": [
      "I have a cat, it is beautifully and I play the ##y all day.\n",
      "I am a cat, it is beautifully and I play to ##e all day.\n",
      "I need a cat, it is beautifully and I play a it all day.\n"
     ]
    }
   ],
   "source": [
    "for p1, p2, p3 in zip(*masked_list):\n",
    "    text_copy = copy.deepcopy(data)\n",
    "    text_copy[val_idx[0]] = p1\n",
    "    text_copy[val_idx[1]] = p2\n",
    "    text_copy[val_idx[2]] = p3\n",
    "    print(\" \".join(text_copy))\n",
    "    del text_copy"
   ]
  },
  {
   "cell_type": "markdown",
   "metadata": {},
   "source": [
    "#### It is also avaliable to use GPT-2 for random word prediction, however, GPT-2 is decoder-only model; which is not appliable for masked coding but only **text generation**"
   ]
  },
  {
   "cell_type": "code",
   "execution_count": 84,
   "metadata": {},
   "outputs": [],
   "source": [
    "from transformers import AutoModelWithLMHead, AutoTokenizer\n",
    "\n",
    "path = r\"./Toy_model/GPT_2\"\n",
    "model = AutoModelWithLMHead.from_pretrained(path)\n",
    "tokenizer = AutoTokenizer.from_pretrained(path)"
   ]
  },
  {
   "cell_type": "code",
   "execution_count": 94,
   "metadata": {},
   "outputs": [],
   "source": [
    "gpt_data = \"I love dogs, I have a dogs with grey color and willing to play\""
   ]
  },
  {
   "cell_type": "code",
   "execution_count": 95,
   "metadata": {},
   "outputs": [],
   "source": [
    "gpt_tokenizer = tokenizer(gpt_data, return_tensors=\"pt\")\n",
    "output = model.generate(**gpt_tokenizer, max_length = 20, pad_token_id = tokenizer.eos_token_id)"
   ]
  },
  {
   "cell_type": "code",
   "execution_count": 96,
   "metadata": {},
   "outputs": [
    {
     "data": {
      "text/plain": [
       "'I love dogs, I have a dogs with grey color and willing to play with them. I love'"
      ]
     },
     "execution_count": 96,
     "metadata": {},
     "output_type": "execute_result"
    }
   ],
   "source": [
    "tokenizer.decode(output[0])"
   ]
  }
 ],
 "metadata": {
  "kernelspec": {
   "display_name": "base",
   "language": "python",
   "name": "python3"
  },
  "language_info": {
   "codemirror_mode": {
    "name": "ipython",
    "version": 3
   },
   "file_extension": ".py",
   "mimetype": "text/x-python",
   "name": "python",
   "nbconvert_exporter": "python",
   "pygments_lexer": "ipython3",
   "version": "3.11.5"
  }
 },
 "nbformat": 4,
 "nbformat_minor": 2
}
